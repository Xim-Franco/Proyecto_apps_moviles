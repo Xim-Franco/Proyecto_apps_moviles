{
  "nbformat": 4,
  "nbformat_minor": 0,
  "metadata": {
    "colab": {
      "provenance": []
    },
    "kernelspec": {
      "name": "python3",
      "display_name": "Python 3"
    },
    "language_info": {
      "name": "python"
    }
  },
  "cells": [
    {
      "cell_type": "code",
      "execution_count": 1,
      "metadata": {
        "id": "Bgkm5vXwtGdr"
      },
      "outputs": [],
      "source": [
        "import pandas as pd\n",
        "import numpy as np\n",
        "import tensorflow as tf\n",
        "from tensorflow.keras.models import Sequential\n",
        "from tensorflow.keras.layers import Dense, Conv2D, Flatten, Dropout, MaxPooling2D\n",
        "from tensorflow.keras import optimizers, backend, callbacks\n",
        "import tensorflow.keras.utils as np_utils\n",
        "from tensorflow.keras.utils import to_categorical\n",
        "from sklearn.model_selection import train_test_split\n",
        "import matplotlib.pyplot as plt\n",
        "from tensorflow.keras.callbacks import EarlyStopping"
      ]
    },
    {
      "cell_type": "code",
      "source": [
        "np.random.seed(100)"
      ],
      "metadata": {
        "id": "hMmF8yigthaw"
      },
      "execution_count": 2,
      "outputs": []
    },
    {
      "cell_type": "code",
      "source": [
        "from google.colab import drive\n",
        "drive.mount('/content/drive')"
      ],
      "metadata": {
        "colab": {
          "base_uri": "https://localhost:8080/"
        },
        "id": "IkrxYP1NthYb",
        "outputId": "3af76543-361e-4706-9202-649f76ab0ae9"
      },
      "execution_count": 3,
      "outputs": [
        {
          "output_type": "stream",
          "name": "stdout",
          "text": [
            "Mounted at /content/drive\n"
          ]
        }
      ]
    },
    {
      "cell_type": "code",
      "source": [
        "# Lectura del archivo de imágenes\n",
        "dataset = pd.read_csv('/content/drive/MyDrive/SenasDataset.csv', header= None)"
      ],
      "metadata": {
        "id": "W66DzBzXthWF"
      },
      "execution_count": 4,
      "outputs": []
    },
    {
      "cell_type": "code",
      "source": [
        "# Tamaño de los datos\n",
        "dataset.shape"
      ],
      "metadata": {
        "id": "-5I-JZbCthTN",
        "colab": {
          "base_uri": "https://localhost:8080/"
        },
        "outputId": "c8f959a0-5cd0-414b-9d84-45b353433e5d"
      },
      "execution_count": 5,
      "outputs": [
        {
          "output_type": "execute_result",
          "data": {
            "text/plain": [
              "(12000, 1601)"
            ]
          },
          "metadata": {},
          "execution_count": 5
        }
      ]
    },
    {
      "cell_type": "markdown",
      "source": [
        "**Preprocesamiento**"
      ],
      "metadata": {
        "id": "TLlt2wW7tr2v"
      }
    },
    {
      "cell_type": "code",
      "source": [
        "# Cambio del tipo de dato del data set a arreglo de numpy\n",
        "dataset = dataset.values"
      ],
      "metadata": {
        "id": "9hIt7kMLthQ3"
      },
      "execution_count": 6,
      "outputs": []
    },
    {
      "cell_type": "code",
      "source": [
        "# Separar imágenes y etiquetas\n",
        "imagenes = dataset[:, :-1]\n",
        "clases = dataset[:, -1] #clases = dataset[:, 1600]"
      ],
      "metadata": {
        "id": "3nOy5y_GthOR"
      },
      "execution_count": 7,
      "outputs": []
    },
    {
      "cell_type": "code",
      "source": [
        "# Verificar las clases antes de codificarlas\n",
        "print(np.unique(clases))"
      ],
      "metadata": {
        "colab": {
          "base_uri": "https://localhost:8080/"
        },
        "id": "qj63yNiIz9pW",
        "outputId": "cd765b8e-1458-4f68-ed46-9d838efa2a6b"
      },
      "execution_count": 8,
      "outputs": [
        {
          "output_type": "stream",
          "name": "stdout",
          "text": [
            "[ 0.  1.  2.  3.  4.  5.  6.  7.  8.  9. 10. 11. 12. 13. 14. 15. 16. 17.\n",
            " 18. 19. 20. 21. 22. 23.]\n"
          ]
        }
      ]
    },
    {
      "cell_type": "code",
      "source": [
        "# Transformar imágenes a su formato original\n",
        "imagenes = imagenes.reshape(12000, 40, 40, 1)"
      ],
      "metadata": {
        "id": "5BA4scs4thLs"
      },
      "execution_count": 9,
      "outputs": []
    },
    {
      "cell_type": "code",
      "source": [
        "# Normalizar las imágenes\n",
        "imagenes = imagenes/255"
      ],
      "metadata": {
        "id": "eozY73mEthI0"
      },
      "execution_count": 10,
      "outputs": []
    },
    {
      "cell_type": "code",
      "source": [
        "# Codificación one-hot de las clases\n",
        "etiquetas = to_categorical(clases, num_classes=24)\n",
        "\n",
        "# Mostrar la codificación one-hot\n",
        "print(clases[0], '->', etiquetas[0])"
      ],
      "metadata": {
        "colab": {
          "base_uri": "https://localhost:8080/"
        },
        "id": "QnQTIXI66HUR",
        "outputId": "068ee7fa-619d-41ae-a7cb-61394fbac36a"
      },
      "execution_count": 11,
      "outputs": [
        {
          "output_type": "stream",
          "name": "stdout",
          "text": [
            "0.0 -> [1. 0. 0. 0. 0. 0. 0. 0. 0. 0. 0. 0. 0. 0. 0. 0. 0. 0. 0. 0. 0. 0. 0. 0.]\n"
          ]
        }
      ]
    },
    {
      "cell_type": "code",
      "source": [
        "# Visualización\n",
        "plt.imshow(imagenes[0].reshape(40, 40), cmap='gray')\n",
        "plt.title(f'Clase: {clases[0]}')\n",
        "plt.show()"
      ],
      "metadata": {
        "id": "Cvmwka_qthF9",
        "colab": {
          "base_uri": "https://localhost:8080/",
          "height": 452
        },
        "outputId": "05ec4371-f3de-4996-96c6-89cfc575d6f1"
      },
      "execution_count": 12,
      "outputs": [
        {
          "output_type": "display_data",
          "data": {
            "text/plain": [
              "<Figure size 640x480 with 1 Axes>"
            ],
            "image/png": "[encoded data removed]"
          },
          "metadata": {}
        }
      ]
    },
    {
      "cell_type": "code",
      "source": [
        "# 80% entrenamiento y 20% prueba\n",
        "X_train, X_test, y_train, y_test = train_test_split(imagenes, etiquetas, test_size=0.2, random_state=42)\n",
        "\n",
        "# 80% entrenamiento y 20% validación\n",
        "X_train, X_val, y_train, y_val = train_test_split(X_train, y_train, test_size=0.2, random_state=42)\n"
      ],
      "metadata": {
        "id": "NX4FIWCIt5Br"
      },
      "execution_count": 13,
      "outputs": []
    },
    {
      "cell_type": "code",
      "source": [
        "print(\"Conjunto de entrenamiento:\", X_train.shape)\n",
        "print(\"Conjunto de validación:\", X_val.shape)\n",
        "print(\"Conjunto de prueba:\", X_test.shape)"
      ],
      "metadata": {
        "id": "XeZdvIgDt4_W",
        "colab": {
          "base_uri": "https://localhost:8080/"
        },
        "outputId": "2cdf83c5-26fa-4253-d44d-36371304f638"
      },
      "execution_count": 14,
      "outputs": [
        {
          "output_type": "stream",
          "name": "stdout",
          "text": [
            "Conjunto de entrenamiento: (7680, 40, 40, 1)\n",
            "Conjunto de validación: (1920, 40, 40, 1)\n",
            "Conjunto de prueba: (2400, 40, 40, 1)\n"
          ]
        }
      ]
    },
    {
      "cell_type": "markdown",
      "source": [
        "**Modelo**"
      ],
      "metadata": {
        "id": "z50bc0KpuBSF"
      }
    },
    {
      "cell_type": "code",
      "source": [
        "backend.clear_session()"
      ],
      "metadata": {
        "id": "sVRToRNrt49A"
      },
      "execution_count": 15,
      "outputs": []
    },
    {
      "cell_type": "code",
      "source": [
        "# Construcción del modelo\n",
        "modelo = Sequential()\n",
        "modelo.add(Conv2D(16, kernel_size=(3,3), activation='relu', input_shape=(40, 40, 1)))\n",
        "modelo.add(MaxPooling2D(pool_size=(2,2)))\n",
        "\n",
        "modelo.add(Conv2D(32, kernel_size=(3,3), activation='relu'))\n",
        "modelo.add(MaxPooling2D(pool_size=(2,2)))\n",
        "\n",
        "modelo.add(Conv2D(64, kernel_size=(3,3), activation='relu'))\n",
        "modelo.add(MaxPooling2D(pool_size=(2,2)))\n",
        "modelo.add(Dropout(0.3))\n",
        "\n",
        "modelo.add(Flatten())\n",
        "\n",
        "modelo.add(Dense(50, activation='relu'))\n",
        "modelo.add(Dropout(0.2))\n",
        "modelo.add(Dense(30, activation='relu'))\n",
        "modelo.add(Dropout(0.2))\n",
        "modelo.add(Dense(24, activation='softmax'))"
      ],
      "metadata": {
        "id": "nrONpg2wt46K"
      },
      "execution_count": 24,
      "outputs": []
    },
    {
      "cell_type": "code",
      "source": [
        "# Early Stopping\n",
        "early_stop = EarlyStopping(monitor='val_loss', patience=5, restore_best_weights=True)\n",
        "# Optimizador y compilación del modelo\n",
        "adam = optimizers.Adam(learning_rate=0.001)\n",
        "modelo.compile(loss='categorical_crossentropy', optimizer=adam, metrics=['accuracy'])"
      ],
      "metadata": {
        "id": "3eLPGG8KuJ3R"
      },
      "execution_count": 25,
      "outputs": []
    },
    {
      "cell_type": "code",
      "source": [
        "#Checkpointer para guardar el mejor modelo\n",
        "checkpointer = callbacks.ModelCheckpoint('lenguajeSenas.keras', monitor = 'val_accuracy', save_best_only = True,\n",
        "                                         mode = 'max')"
      ],
      "metadata": {
        "id": "6u_Pi5luuJ1N"
      },
      "execution_count": 26,
      "outputs": []
    },
    {
      "cell_type": "code",
      "source": [
        "# Entrenamiento del modelo\n",
        "M = modelo.fit(X_train, y_train, validation_data=(X_val, y_val), epochs=90, batch_size=64,\n",
        "               callbacks=[checkpointer], verbose=True)"
      ],
      "metadata": {
        "id": "DBwKenyyuTU_",
        "colab": {
          "base_uri": "https://localhost:8080/"
        },
        "collapsed": true,
        "outputId": "beacacc3-9f98-49a2-bd6b-98b9bba1244d"
      },
      "execution_count": 27,
      "outputs": [
        {
          "output_type": "stream",
          "name": "stdout",
          "text": [
            "Epoch 1/90\n",
            "\u001b[1m120/120\u001b[0m \u001b[32m━━━━━━━━━━━━━━━━━━━━\u001b[0m\u001b[37m\u001b[0m \u001b[1m11s\u001b[0m 73ms/step - accuracy: 0.0524 - loss: 3.1609 - val_accuracy: 0.1484 - val_loss: 2.7630\n",
            "Epoch 2/90\n",
            "\u001b[1m120/120\u001b[0m \u001b[32m━━━━━━━━━━━━━━━━━━━━\u001b[0m\u001b[37m\u001b[0m \u001b[1m8s\u001b[0m 64ms/step - accuracy: 0.1298 - loss: 2.7812 - val_accuracy: 0.2208 - val_loss: 2.3835\n",
            "Epoch 3/90\n",
            "\u001b[1m120/120\u001b[0m \u001b[32m━━━━━━━━━━━━━━━━━━━━\u001b[0m\u001b[37m\u001b[0m \u001b[1m11s\u001b[0m 89ms/step - accuracy: 0.2058 - loss: 2.4308 - val_accuracy: 0.3005 - val_loss: 2.0499\n",
            "Epoch 4/90\n",
            "\u001b[1m120/120\u001b[0m \u001b[32m━━━━━━━━━━━━━━━━━━━━\u001b[0m\u001b[37m\u001b[0m \u001b[1m19s\u001b[0m 75ms/step - accuracy: 0.2752 - loss: 2.1523 - val_accuracy: 0.4385 - val_loss: 1.7138\n",
            "Epoch 5/90\n",
            "\u001b[1m120/120\u001b[0m \u001b[32m━━━━━━━━━━━━━━━━━━━━\u001b[0m\u001b[37m\u001b[0m \u001b[1m9s\u001b[0m 72ms/step - accuracy: 0.3404 - loss: 1.9090 - val_accuracy: 0.5219 - val_loss: 1.4670\n",
            "Epoch 6/90\n",
            "\u001b[1m120/120\u001b[0m \u001b[32m━━━━━━━━━━━━━━━━━━━━\u001b[0m\u001b[37m\u001b[0m \u001b[1m8s\u001b[0m 62ms/step - accuracy: 0.3839 - loss: 1.7421 - val_accuracy: 0.5578 - val_loss: 1.3149\n",
            "Epoch 7/90\n",
            "\u001b[1m120/120\u001b[0m \u001b[32m━━━━━━━━━━━━━━━━━━━━\u001b[0m\u001b[37m\u001b[0m \u001b[1m12s\u001b[0m 74ms/step - accuracy: 0.4511 - loss: 1.5649 - val_accuracy: 0.6182 - val_loss: 1.1996\n",
            "Epoch 8/90\n",
            "\u001b[1m120/120\u001b[0m \u001b[32m━━━━━━━━━━━━━━━━━━━━\u001b[0m\u001b[37m\u001b[0m \u001b[1m8s\u001b[0m 70ms/step - accuracy: 0.4735 - loss: 1.4594 - val_accuracy: 0.6406 - val_loss: 1.0845\n",
            "Epoch 9/90\n",
            "\u001b[1m120/120\u001b[0m \u001b[32m━━━━━━━━━━━━━━━━━━━━\u001b[0m\u001b[37m\u001b[0m \u001b[1m9s\u001b[0m 60ms/step - accuracy: 0.5065 - loss: 1.3760 - val_accuracy: 0.6505 - val_loss: 1.0303\n",
            "Epoch 10/90\n",
            "\u001b[1m120/120\u001b[0m \u001b[32m━━━━━━━━━━━━━━━━━━━━\u001b[0m\u001b[37m\u001b[0m \u001b[1m11s\u001b[0m 67ms/step - accuracy: 0.5305 - loss: 1.2900 - val_accuracy: 0.6714 - val_loss: 0.9493\n",
            "Epoch 11/90\n",
            "\u001b[1m120/120\u001b[0m \u001b[32m━━━━━━━━━━━━━━━━━━━━\u001b[0m\u001b[37m\u001b[0m \u001b[1m9s\u001b[0m 75ms/step - accuracy: 0.5506 - loss: 1.2253 - val_accuracy: 0.6974 - val_loss: 0.9301\n",
            "Epoch 12/90\n",
            "\u001b[1m120/120\u001b[0m \u001b[32m━━━━━━━━━━━━━━━━━━━━\u001b[0m\u001b[37m\u001b[0m \u001b[1m8s\u001b[0m 60ms/step - accuracy: 0.5731 - loss: 1.1842 - val_accuracy: 0.6766 - val_loss: 0.9390\n",
            "Epoch 13/90\n",
            "\u001b[1m120/120\u001b[0m \u001b[32m━━━━━━━━━━━━━━━━━━━━\u001b[0m\u001b[37m\u001b[0m \u001b[1m9s\u001b[0m 76ms/step - accuracy: 0.5909 - loss: 1.1292 - val_accuracy: 0.7182 - val_loss: 0.8748\n",
            "Epoch 14/90\n",
            "\u001b[1m120/120\u001b[0m \u001b[32m━━━━━━━━━━━━━━━━━━━━\u001b[0m\u001b[37m\u001b[0m \u001b[1m9s\u001b[0m 72ms/step - accuracy: 0.6081 - loss: 1.0830 - val_accuracy: 0.7203 - val_loss: 0.8192\n",
            "Epoch 15/90\n",
            "\u001b[1m120/120\u001b[0m \u001b[32m━━━━━━━━━━━━━━━━━━━━\u001b[0m\u001b[37m\u001b[0m \u001b[1m9s\u001b[0m 61ms/step - accuracy: 0.6161 - loss: 1.0433 - val_accuracy: 0.7333 - val_loss: 0.8108\n",
            "Epoch 16/90\n",
            "\u001b[1m120/120\u001b[0m \u001b[32m━━━━━━━━━━━━━━━━━━━━\u001b[0m\u001b[37m\u001b[0m \u001b[1m11s\u001b[0m 66ms/step - accuracy: 0.6293 - loss: 1.0097 - val_accuracy: 0.7526 - val_loss: 0.7639\n",
            "Epoch 17/90\n",
            "\u001b[1m120/120\u001b[0m \u001b[32m━━━━━━━━━━━━━━━━━━━━\u001b[0m\u001b[37m\u001b[0m \u001b[1m9s\u001b[0m 75ms/step - accuracy: 0.6384 - loss: 0.9922 - val_accuracy: 0.7443 - val_loss: 0.7668\n",
            "Epoch 18/90\n",
            "\u001b[1m120/120\u001b[0m \u001b[32m━━━━━━━━━━━━━━━━━━━━\u001b[0m\u001b[37m\u001b[0m \u001b[1m7s\u001b[0m 61ms/step - accuracy: 0.6510 - loss: 0.9602 - val_accuracy: 0.7641 - val_loss: 0.7156\n",
            "Epoch 19/90\n",
            "\u001b[1m120/120\u001b[0m \u001b[32m━━━━━━━━━━━━━━━━━━━━\u001b[0m\u001b[37m\u001b[0m \u001b[1m11s\u001b[0m 66ms/step - accuracy: 0.6567 - loss: 0.9460 - val_accuracy: 0.7667 - val_loss: 0.7174\n",
            "Epoch 20/90\n",
            "\u001b[1m120/120\u001b[0m \u001b[32m━━━━━━━━━━━━━━━━━━━━\u001b[0m\u001b[37m\u001b[0m \u001b[1m9s\u001b[0m 74ms/step - accuracy: 0.6677 - loss: 0.9053 - val_accuracy: 0.7578 - val_loss: 0.7070\n",
            "Epoch 21/90\n",
            "\u001b[1m120/120\u001b[0m \u001b[32m━━━━━━━━━━━━━━━━━━━━\u001b[0m\u001b[37m\u001b[0m \u001b[1m7s\u001b[0m 60ms/step - accuracy: 0.6948 - loss: 0.8877 - val_accuracy: 0.7760 - val_loss: 0.6855\n",
            "Epoch 22/90\n",
            "\u001b[1m120/120\u001b[0m \u001b[32m━━━━━━━━━━━━━━━━━━━━\u001b[0m\u001b[37m\u001b[0m \u001b[1m9s\u001b[0m 75ms/step - accuracy: 0.6880 - loss: 0.8734 - val_accuracy: 0.7734 - val_loss: 0.6843\n",
            "Epoch 23/90\n",
            "\u001b[1m120/120\u001b[0m \u001b[32m━━━━━━━━━━━━━━━━━━━━\u001b[0m\u001b[37m\u001b[0m \u001b[1m10s\u001b[0m 71ms/step - accuracy: 0.7006 - loss: 0.8297 - val_accuracy: 0.7854 - val_loss: 0.6433\n",
            "Epoch 24/90\n",
            "\u001b[1m120/120\u001b[0m \u001b[32m━━━━━━━━━━━━━━━━━━━━\u001b[0m\u001b[37m\u001b[0m \u001b[1m9s\u001b[0m 59ms/step - accuracy: 0.7026 - loss: 0.8068 - val_accuracy: 0.7969 - val_loss: 0.6403\n",
            "Epoch 25/90\n",
            "\u001b[1m120/120\u001b[0m \u001b[32m━━━━━━━━━━━━━━━━━━━━\u001b[0m\u001b[37m\u001b[0m \u001b[1m9s\u001b[0m 76ms/step - accuracy: 0.7047 - loss: 0.8119 - val_accuracy: 0.7964 - val_loss: 0.6137\n",
            "Epoch 26/90\n",
            "\u001b[1m120/120\u001b[0m \u001b[32m━━━━━━━━━━━━━━━━━━━━\u001b[0m\u001b[37m\u001b[0m \u001b[1m9s\u001b[0m 70ms/step - accuracy: 0.7118 - loss: 0.8086 - val_accuracy: 0.7958 - val_loss: 0.6179\n",
            "Epoch 27/90\n",
            "\u001b[1m120/120\u001b[0m \u001b[32m━━━━━━━━━━━━━━━━━━━━\u001b[0m\u001b[37m\u001b[0m \u001b[1m10s\u001b[0m 79ms/step - accuracy: 0.7131 - loss: 0.8069 - val_accuracy: 0.7990 - val_loss: 0.6155\n",
            "Epoch 28/90\n",
            "\u001b[1m120/120\u001b[0m \u001b[32m━━━━━━━━━━━━━━━━━━━━\u001b[0m\u001b[37m\u001b[0m \u001b[1m10s\u001b[0m 75ms/step - accuracy: 0.7225 - loss: 0.7742 - val_accuracy: 0.8047 - val_loss: 0.5935\n",
            "Epoch 29/90\n",
            "\u001b[1m120/120\u001b[0m \u001b[32m━━━━━━━━━━━━━━━━━━━━\u001b[0m\u001b[37m\u001b[0m \u001b[1m10s\u001b[0m 76ms/step - accuracy: 0.7239 - loss: 0.7684 - val_accuracy: 0.8198 - val_loss: 0.5931\n",
            "Epoch 30/90\n",
            "\u001b[1m120/120\u001b[0m \u001b[32m━━━━━━━━━━━━━━━━━━━━\u001b[0m\u001b[37m\u001b[0m \u001b[1m8s\u001b[0m 59ms/step - accuracy: 0.7179 - loss: 0.7810 - val_accuracy: 0.8146 - val_loss: 0.5792\n",
            "Epoch 31/90\n",
            "\u001b[1m120/120\u001b[0m \u001b[32m━━━━━━━━━━━━━━━━━━━━\u001b[0m\u001b[37m\u001b[0m \u001b[1m11s\u001b[0m 65ms/step - accuracy: 0.7287 - loss: 0.7543 - val_accuracy: 0.8141 - val_loss: 0.5959\n",
            "Epoch 32/90\n",
            "\u001b[1m120/120\u001b[0m \u001b[32m━━━━━━━━━━━━━━━━━━━━\u001b[0m\u001b[37m\u001b[0m \u001b[1m11s\u001b[0m 75ms/step - accuracy: 0.7371 - loss: 0.7053 - val_accuracy: 0.8135 - val_loss: 0.5826\n",
            "Epoch 33/90\n",
            "\u001b[1m120/120\u001b[0m \u001b[32m━━━━━━━━━━━━━━━━━━━━\u001b[0m\u001b[37m\u001b[0m \u001b[1m10s\u001b[0m 75ms/step - accuracy: 0.7495 - loss: 0.7007 - val_accuracy: 0.8266 - val_loss: 0.5454\n",
            "Epoch 34/90\n",
            "\u001b[1m120/120\u001b[0m \u001b[32m━━━━━━━━━━━━━━━━━━━━\u001b[0m\u001b[37m\u001b[0m \u001b[1m9s\u001b[0m 61ms/step - accuracy: 0.7513 - loss: 0.6922 - val_accuracy: 0.8182 - val_loss: 0.5753\n",
            "Epoch 35/90\n",
            "\u001b[1m120/120\u001b[0m \u001b[32m━━━━━━━━━━━━━━━━━━━━\u001b[0m\u001b[37m\u001b[0m \u001b[1m9s\u001b[0m 74ms/step - accuracy: 0.7432 - loss: 0.7282 - val_accuracy: 0.8354 - val_loss: 0.5455\n",
            "Epoch 36/90\n",
            "\u001b[1m120/120\u001b[0m \u001b[32m━━━━━━━━━━━━━━━━━━━━\u001b[0m\u001b[37m\u001b[0m \u001b[1m10s\u001b[0m 73ms/step - accuracy: 0.7685 - loss: 0.6604 - val_accuracy: 0.8318 - val_loss: 0.5577\n",
            "Epoch 37/90\n",
            "\u001b[1m120/120\u001b[0m \u001b[32m━━━━━━━━━━━━━━━━━━━━\u001b[0m\u001b[37m\u001b[0m \u001b[1m9s\u001b[0m 60ms/step - accuracy: 0.7466 - loss: 0.7028 - val_accuracy: 0.8297 - val_loss: 0.5322\n",
            "Epoch 38/90\n",
            "\u001b[1m120/120\u001b[0m \u001b[32m━━━━━━━━━━━━━━━━━━━━\u001b[0m\u001b[37m\u001b[0m \u001b[1m9s\u001b[0m 76ms/step - accuracy: 0.7554 - loss: 0.6651 - val_accuracy: 0.8365 - val_loss: 0.5137\n",
            "Epoch 39/90\n",
            "\u001b[1m120/120\u001b[0m \u001b[32m━━━━━━━━━━━━━━━━━━━━\u001b[0m\u001b[37m\u001b[0m \u001b[1m10s\u001b[0m 71ms/step - accuracy: 0.7559 - loss: 0.6803 - val_accuracy: 0.8208 - val_loss: 0.5200\n",
            "Epoch 40/90\n",
            "\u001b[1m120/120\u001b[0m \u001b[32m━━━━━━━━━━━━━━━━━━━━\u001b[0m\u001b[37m\u001b[0m \u001b[1m9s\u001b[0m 62ms/step - accuracy: 0.7589 - loss: 0.6666 - val_accuracy: 0.8396 - val_loss: 0.5298\n",
            "Epoch 41/90\n",
            "\u001b[1m120/120\u001b[0m \u001b[32m━━━━━━━━━━━━━━━━━━━━\u001b[0m\u001b[37m\u001b[0m \u001b[1m9s\u001b[0m 75ms/step - accuracy: 0.7626 - loss: 0.6583 - val_accuracy: 0.8401 - val_loss: 0.5034\n",
            "Epoch 42/90\n",
            "\u001b[1m120/120\u001b[0m \u001b[32m━━━━━━━━━━━━━━━━━━━━\u001b[0m\u001b[37m\u001b[0m \u001b[1m10s\u001b[0m 73ms/step - accuracy: 0.7701 - loss: 0.6268 - val_accuracy: 0.8422 - val_loss: 0.5037\n",
            "Epoch 43/90\n",
            "\u001b[1m120/120\u001b[0m \u001b[32m━━━━━━━━━━━━━━━━━━━━\u001b[0m\u001b[37m\u001b[0m \u001b[1m9s\u001b[0m 61ms/step - accuracy: 0.7746 - loss: 0.6271 - val_accuracy: 0.8448 - val_loss: 0.4985\n",
            "Epoch 44/90\n",
            "\u001b[1m120/120\u001b[0m \u001b[32m━━━━━━━━━━━━━━━━━━━━\u001b[0m\u001b[37m\u001b[0m \u001b[1m9s\u001b[0m 76ms/step - accuracy: 0.7915 - loss: 0.5810 - val_accuracy: 0.8510 - val_loss: 0.4917\n",
            "Epoch 45/90\n",
            "\u001b[1m120/120\u001b[0m \u001b[32m━━━━━━━━━━━━━━━━━━━━\u001b[0m\u001b[37m\u001b[0m \u001b[1m8s\u001b[0m 66ms/step - accuracy: 0.7859 - loss: 0.5982 - val_accuracy: 0.8490 - val_loss: 0.4769\n",
            "Epoch 46/90\n",
            "\u001b[1m120/120\u001b[0m \u001b[32m━━━━━━━━━━━━━━━━━━━━\u001b[0m\u001b[37m\u001b[0m \u001b[1m8s\u001b[0m 69ms/step - accuracy: 0.7821 - loss: 0.6114 - val_accuracy: 0.8464 - val_loss: 0.4945\n",
            "Epoch 47/90\n",
            "\u001b[1m120/120\u001b[0m \u001b[32m━━━━━━━━━━━━━━━━━━━━\u001b[0m\u001b[37m\u001b[0m \u001b[1m11s\u001b[0m 76ms/step - accuracy: 0.7852 - loss: 0.5906 - val_accuracy: 0.8375 - val_loss: 0.5078\n",
            "Epoch 48/90\n",
            "\u001b[1m120/120\u001b[0m \u001b[32m━━━━━━━━━━━━━━━━━━━━\u001b[0m\u001b[37m\u001b[0m \u001b[1m9s\u001b[0m 69ms/step - accuracy: 0.7868 - loss: 0.6133 - val_accuracy: 0.8375 - val_loss: 0.5040\n",
            "Epoch 49/90\n",
            "\u001b[1m120/120\u001b[0m \u001b[32m━━━━━━━━━━━━━━━━━━━━\u001b[0m\u001b[37m\u001b[0m \u001b[1m8s\u001b[0m 68ms/step - accuracy: 0.7912 - loss: 0.5765 - val_accuracy: 0.8375 - val_loss: 0.5057\n",
            "Epoch 50/90\n",
            "\u001b[1m120/120\u001b[0m \u001b[32m━━━━━━━━━━━━━━━━━━━━\u001b[0m\u001b[37m\u001b[0m \u001b[1m11s\u001b[0m 76ms/step - accuracy: 0.7900 - loss: 0.5892 - val_accuracy: 0.8391 - val_loss: 0.4931\n",
            "Epoch 51/90\n",
            "\u001b[1m120/120\u001b[0m \u001b[32m━━━━━━━━━━━━━━━━━━━━\u001b[0m\u001b[37m\u001b[0m \u001b[1m8s\u001b[0m 67ms/step - accuracy: 0.7930 - loss: 0.5894 - val_accuracy: 0.8531 - val_loss: 0.4893\n",
            "Epoch 52/90\n",
            "\u001b[1m120/120\u001b[0m \u001b[32m━━━━━━━━━━━━━━━━━━━━\u001b[0m\u001b[37m\u001b[0m \u001b[1m11s\u001b[0m 74ms/step - accuracy: 0.8057 - loss: 0.5362 - val_accuracy: 0.8500 - val_loss: 0.4789\n",
            "Epoch 53/90\n",
            "\u001b[1m120/120\u001b[0m \u001b[32m━━━━━━━━━━━━━━━━━━━━\u001b[0m\u001b[37m\u001b[0m \u001b[1m9s\u001b[0m 75ms/step - accuracy: 0.8032 - loss: 0.5627 - val_accuracy: 0.8547 - val_loss: 0.4707\n",
            "Epoch 54/90\n",
            "\u001b[1m120/120\u001b[0m \u001b[32m━━━━━━━━━━━━━━━━━━━━\u001b[0m\u001b[37m\u001b[0m \u001b[1m9s\u001b[0m 73ms/step - accuracy: 0.7981 - loss: 0.5580 - val_accuracy: 0.8536 - val_loss: 0.4799\n",
            "Epoch 55/90\n",
            "\u001b[1m120/120\u001b[0m \u001b[32m━━━━━━━━━━━━━━━━━━━━\u001b[0m\u001b[37m\u001b[0m \u001b[1m8s\u001b[0m 63ms/step - accuracy: 0.7968 - loss: 0.5707 - val_accuracy: 0.8536 - val_loss: 0.4677\n",
            "Epoch 56/90\n",
            "\u001b[1m120/120\u001b[0m \u001b[32m━━━━━━━━━━━━━━━━━━━━\u001b[0m\u001b[37m\u001b[0m \u001b[1m9s\u001b[0m 75ms/step - accuracy: 0.8002 - loss: 0.5563 - val_accuracy: 0.8536 - val_loss: 0.4686\n",
            "Epoch 57/90\n",
            "\u001b[1m120/120\u001b[0m \u001b[32m━━━━━━━━━━━━━━━━━━━━\u001b[0m\u001b[37m\u001b[0m \u001b[1m9s\u001b[0m 61ms/step - accuracy: 0.7990 - loss: 0.5574 - val_accuracy: 0.8531 - val_loss: 0.4655\n",
            "Epoch 58/90\n",
            "\u001b[1m120/120\u001b[0m \u001b[32m━━━━━━━━━━━━━━━━━━━━\u001b[0m\u001b[37m\u001b[0m \u001b[1m10s\u001b[0m 59ms/step - accuracy: 0.8089 - loss: 0.5375 - val_accuracy: 0.8490 - val_loss: 0.4795\n",
            "Epoch 59/90\n",
            "\u001b[1m120/120\u001b[0m \u001b[32m━━━━━━━━━━━━━━━━━━━━\u001b[0m\u001b[37m\u001b[0m \u001b[1m12s\u001b[0m 70ms/step - accuracy: 0.8070 - loss: 0.5451 - val_accuracy: 0.8609 - val_loss: 0.4554\n",
            "Epoch 60/90\n",
            "\u001b[1m120/120\u001b[0m \u001b[32m━━━━━━━━━━━━━━━━━━━━\u001b[0m\u001b[37m\u001b[0m \u001b[1m11s\u001b[0m 76ms/step - accuracy: 0.8080 - loss: 0.5335 - val_accuracy: 0.8578 - val_loss: 0.4551\n",
            "Epoch 61/90\n",
            "\u001b[1m120/120\u001b[0m \u001b[32m━━━━━━━━━━━━━━━━━━━━\u001b[0m\u001b[37m\u001b[0m \u001b[1m9s\u001b[0m 67ms/step - accuracy: 0.8187 - loss: 0.5245 - val_accuracy: 0.8370 - val_loss: 0.4924\n",
            "Epoch 62/90\n",
            "\u001b[1m120/120\u001b[0m \u001b[32m━━━━━━━━━━━━━━━━━━━━\u001b[0m\u001b[37m\u001b[0m \u001b[1m9s\u001b[0m 61ms/step - accuracy: 0.8094 - loss: 0.5349 - val_accuracy: 0.8474 - val_loss: 0.4700\n",
            "Epoch 63/90\n",
            "\u001b[1m120/120\u001b[0m \u001b[32m━━━━━━━━━━━━━━━━━━━━\u001b[0m\u001b[37m\u001b[0m \u001b[1m9s\u001b[0m 76ms/step - accuracy: 0.8167 - loss: 0.5267 - val_accuracy: 0.8604 - val_loss: 0.4492\n",
            "Epoch 64/90\n",
            "\u001b[1m120/120\u001b[0m \u001b[32m━━━━━━━━━━━━━━━━━━━━\u001b[0m\u001b[37m\u001b[0m \u001b[1m7s\u001b[0m 62ms/step - accuracy: 0.8053 - loss: 0.5432 - val_accuracy: 0.8677 - val_loss: 0.4443\n",
            "Epoch 65/90\n",
            "\u001b[1m120/120\u001b[0m \u001b[32m━━━━━━━━━━━━━━━━━━━━\u001b[0m\u001b[37m\u001b[0m \u001b[1m10s\u001b[0m 61ms/step - accuracy: 0.8057 - loss: 0.5412 - val_accuracy: 0.8635 - val_loss: 0.4449\n",
            "Epoch 66/90\n",
            "\u001b[1m120/120\u001b[0m \u001b[32m━━━━━━━━━━━━━━━━━━━━\u001b[0m\u001b[37m\u001b[0m \u001b[1m9s\u001b[0m 79ms/step - accuracy: 0.8155 - loss: 0.5011 - val_accuracy: 0.8672 - val_loss: 0.4442\n",
            "Epoch 67/90\n",
            "\u001b[1m120/120\u001b[0m \u001b[32m━━━━━━━━━━━━━━━━━━━━\u001b[0m\u001b[37m\u001b[0m \u001b[1m9s\u001b[0m 70ms/step - accuracy: 0.8111 - loss: 0.5323 - val_accuracy: 0.8625 - val_loss: 0.4500\n",
            "Epoch 68/90\n",
            "\u001b[1m120/120\u001b[0m \u001b[32m━━━━━━━━━━━━━━━━━━━━\u001b[0m\u001b[37m\u001b[0m \u001b[1m9s\u001b[0m 62ms/step - accuracy: 0.8340 - loss: 0.4770 - val_accuracy: 0.8531 - val_loss: 0.4691\n",
            "Epoch 69/90\n",
            "\u001b[1m120/120\u001b[0m \u001b[32m━━━━━━━━━━━━━━━━━━━━\u001b[0m\u001b[37m\u001b[0m \u001b[1m9s\u001b[0m 75ms/step - accuracy: 0.8233 - loss: 0.5049 - val_accuracy: 0.8677 - val_loss: 0.4454\n",
            "Epoch 70/90\n",
            "\u001b[1m120/120\u001b[0m \u001b[32m━━━━━━━━━━━━━━━━━━━━\u001b[0m\u001b[37m\u001b[0m \u001b[1m8s\u001b[0m 67ms/step - accuracy: 0.8288 - loss: 0.4871 - val_accuracy: 0.8672 - val_loss: 0.4372\n",
            "Epoch 71/90\n",
            "\u001b[1m120/120\u001b[0m \u001b[32m━━━━━━━━━━━━━━━━━━━━\u001b[0m\u001b[37m\u001b[0m \u001b[1m10s\u001b[0m 62ms/step - accuracy: 0.8267 - loss: 0.4767 - val_accuracy: 0.8708 - val_loss: 0.4304\n",
            "Epoch 72/90\n",
            "\u001b[1m120/120\u001b[0m \u001b[32m━━━━━━━━━━━━━━━━━━━━\u001b[0m\u001b[37m\u001b[0m \u001b[1m9s\u001b[0m 77ms/step - accuracy: 0.8349 - loss: 0.4830 - val_accuracy: 0.8615 - val_loss: 0.4406\n",
            "Epoch 73/90\n",
            "\u001b[1m120/120\u001b[0m \u001b[32m━━━━━━━━━━━━━━━━━━━━\u001b[0m\u001b[37m\u001b[0m \u001b[1m10s\u001b[0m 72ms/step - accuracy: 0.8219 - loss: 0.4978 - val_accuracy: 0.8641 - val_loss: 0.4346\n",
            "Epoch 74/90\n",
            "\u001b[1m120/120\u001b[0m \u001b[32m━━━━━━━━━━━━━━━━━━━━\u001b[0m\u001b[37m\u001b[0m \u001b[1m9s\u001b[0m 62ms/step - accuracy: 0.8328 - loss: 0.4632 - val_accuracy: 0.8677 - val_loss: 0.4270\n",
            "Epoch 75/90\n",
            "\u001b[1m120/120\u001b[0m \u001b[32m━━━━━━━━━━━━━━━━━━━━\u001b[0m\u001b[37m\u001b[0m \u001b[1m11s\u001b[0m 69ms/step - accuracy: 0.8371 - loss: 0.4636 - val_accuracy: 0.8656 - val_loss: 0.4302\n",
            "Epoch 76/90\n",
            "\u001b[1m120/120\u001b[0m \u001b[32m━━━━━━━━━━━━━━━━━━━━\u001b[0m\u001b[37m\u001b[0m \u001b[1m13s\u001b[0m 91ms/step - accuracy: 0.8270 - loss: 0.4961 - val_accuracy: 0.8703 - val_loss: 0.4333\n",
            "Epoch 77/90\n",
            "\u001b[1m120/120\u001b[0m \u001b[32m━━━━━━━━━━━━━━━━━━━━\u001b[0m\u001b[37m\u001b[0m \u001b[1m17s\u001b[0m 62ms/step - accuracy: 0.8317 - loss: 0.4705 - val_accuracy: 0.8630 - val_loss: 0.4377\n",
            "Epoch 78/90\n",
            "\u001b[1m120/120\u001b[0m \u001b[32m━━━━━━━━━━━━━━━━━━━━\u001b[0m\u001b[37m\u001b[0m \u001b[1m11s\u001b[0m 64ms/step - accuracy: 0.8374 - loss: 0.4676 - val_accuracy: 0.8594 - val_loss: 0.4295\n",
            "Epoch 79/90\n",
            "\u001b[1m120/120\u001b[0m \u001b[32m━━━━━━━━━━━━━━━━━━━━\u001b[0m\u001b[37m\u001b[0m \u001b[1m9s\u001b[0m 76ms/step - accuracy: 0.8327 - loss: 0.4665 - val_accuracy: 0.8729 - val_loss: 0.4089\n",
            "Epoch 80/90\n",
            "\u001b[1m120/120\u001b[0m \u001b[32m━━━━━━━━━━━━━━━━━━━━\u001b[0m\u001b[37m\u001b[0m \u001b[1m7s\u001b[0m 62ms/step - accuracy: 0.8440 - loss: 0.4519 - val_accuracy: 0.8672 - val_loss: 0.4190\n",
            "Epoch 81/90\n",
            "\u001b[1m120/120\u001b[0m \u001b[32m━━━━━━━━━━━━━━━━━━━━\u001b[0m\u001b[37m\u001b[0m \u001b[1m9s\u001b[0m 77ms/step - accuracy: 0.8444 - loss: 0.4409 - val_accuracy: 0.8552 - val_loss: 0.4397\n",
            "Epoch 82/90\n",
            "\u001b[1m120/120\u001b[0m \u001b[32m━━━━━━━━━━━━━━━━━━━━\u001b[0m\u001b[37m\u001b[0m \u001b[1m10s\u001b[0m 79ms/step - accuracy: 0.8431 - loss: 0.4542 - val_accuracy: 0.8672 - val_loss: 0.4224\n",
            "Epoch 83/90\n",
            "\u001b[1m120/120\u001b[0m \u001b[32m━━━━━━━━━━━━━━━━━━━━\u001b[0m\u001b[37m\u001b[0m \u001b[1m8s\u001b[0m 61ms/step - accuracy: 0.8423 - loss: 0.4518 - val_accuracy: 0.8651 - val_loss: 0.4404\n",
            "Epoch 84/90\n",
            "\u001b[1m120/120\u001b[0m \u001b[32m━━━━━━━━━━━━━━━━━━━━\u001b[0m\u001b[37m\u001b[0m \u001b[1m9s\u001b[0m 76ms/step - accuracy: 0.8415 - loss: 0.4489 - val_accuracy: 0.8750 - val_loss: 0.4172\n",
            "Epoch 85/90\n",
            "\u001b[1m120/120\u001b[0m \u001b[32m━━━━━━━━━━━━━━━━━━━━\u001b[0m\u001b[37m\u001b[0m \u001b[1m9s\u001b[0m 70ms/step - accuracy: 0.8441 - loss: 0.4506 - val_accuracy: 0.8698 - val_loss: 0.4196\n",
            "Epoch 86/90\n",
            "\u001b[1m120/120\u001b[0m \u001b[32m━━━━━━━━━━━━━━━━━━━━\u001b[0m\u001b[37m\u001b[0m \u001b[1m8s\u001b[0m 64ms/step - accuracy: 0.8386 - loss: 0.4427 - val_accuracy: 0.8724 - val_loss: 0.4154\n",
            "Epoch 87/90\n",
            "\u001b[1m120/120\u001b[0m \u001b[32m━━━━━━━━━━━━━━━━━━━━\u001b[0m\u001b[37m\u001b[0m \u001b[1m12s\u001b[0m 76ms/step - accuracy: 0.8447 - loss: 0.4233 - val_accuracy: 0.8677 - val_loss: 0.4215\n",
            "Epoch 88/90\n",
            "\u001b[1m120/120\u001b[0m \u001b[32m━━━━━━━━━━━━━━━━━━━━\u001b[0m\u001b[37m\u001b[0m \u001b[1m9s\u001b[0m 72ms/step - accuracy: 0.8485 - loss: 0.4328 - val_accuracy: 0.8667 - val_loss: 0.4326\n",
            "Epoch 89/90\n",
            "\u001b[1m120/120\u001b[0m \u001b[32m━━━━━━━━━━━━━━━━━━━━\u001b[0m\u001b[37m\u001b[0m \u001b[1m9s\u001b[0m 61ms/step - accuracy: 0.8477 - loss: 0.4450 - val_accuracy: 0.8734 - val_loss: 0.4092\n",
            "Epoch 90/90\n",
            "\u001b[1m120/120\u001b[0m \u001b[32m━━━━━━━━━━━━━━━━━━━━\u001b[0m\u001b[37m\u001b[0m \u001b[1m9s\u001b[0m 76ms/step - accuracy: 0.8437 - loss: 0.4532 - val_accuracy: 0.8693 - val_loss: 0.4212\n"
          ]
        }
      ]
    },
    {
      "cell_type": "code",
      "source": [
        "# Evaluación del modelo\n",
        "plt.plot(M.history['accuracy'], label = 'train')\n",
        "plt.plot(M.history['val_accuracy'], label = 'val')\n",
        "plt.legend(loc = 'best')\n",
        "plt.xlabel('Época')\n",
        "plt.ylabel('Accuracy')\n",
        "plt.show()"
      ],
      "metadata": {
        "id": "s4OHf1vSuTSY",
        "colab": {
          "base_uri": "https://localhost:8080/",
          "height": 451
        },
        "outputId": "afdd3fb3-1a81-4d17-c50b-fb32f63ef72f"
      },
      "execution_count": 28,
      "outputs": [
        {
          "output_type": "display_data",
          "data": {
            "text/plain": [
              "<Figure size 640x480 with 1 Axes>"
            ],
            "image/png": "[encoded data removed]"
          },
          "metadata": {}
        }
      ]
    },
    {
      "cell_type": "code",
      "source": [
        "# Evaluación del modelo\n",
        "plt.plot(M.history['loss'], label = 'train')\n",
        "plt.plot(M.history['val_loss'], label = 'val')\n",
        "plt.legend(loc = 'best')\n",
        "plt.xlabel('Época')\n",
        "plt.ylabel('Loss')\n",
        "plt.show()"
      ],
      "metadata": {
        "id": "mYu8e6bluTQT",
        "colab": {
          "base_uri": "https://localhost:8080/",
          "height": 451
        },
        "outputId": "3aa1b240-fda2-4ac1-ffb0-40b14fddfd4f"
      },
      "execution_count": 29,
      "outputs": [
        {
          "output_type": "display_data",
          "data": {
            "text/plain": [
              "<Figure size 640x480 with 1 Axes>"
            ],
            "image/png": "[encoded data removed]"
          },
          "metadata": {}
        }
      ]
    },
    {
      "cell_type": "code",
      "source": [
        "# Evaluación general del modelo en el conjunto de prueba\n",
        "loss, accuracy = modelo.evaluate(X_test, y_test, verbose=0)\n",
        "print(f'Loss en prueba: {loss:.4f}')\n",
        "print(f'Accuracy en prueba: {accuracy:.4f}')"
      ],
      "metadata": {
        "colab": {
          "base_uri": "https://localhost:8080/"
        },
        "id": "Xj-2zIXYAZxb",
        "outputId": "0190924b-9541-42b6-84d7-2018e94fe01d"
      },
      "execution_count": 30,
      "outputs": [
        {
          "output_type": "stream",
          "name": "stdout",
          "text": [
            "Loss en prueba: 0.4298\n",
            "Accuracy en prueba: 0.8729\n"
          ]
        }
      ]
    },
    {
      "cell_type": "markdown",
      "source": [
        "**Prueba del modelo**"
      ],
      "metadata": {
        "id": "uDqn-vm4ueyU"
      }
    },
    {
      "cell_type": "code",
      "source": [
        "n_imagen = 50\n",
        "prediccion = modelo.predict(X_test[n_imagen].reshape(1,40,40,1))\n",
        "\n",
        "plt.imshow(X_test[n_imagen].reshape(40,40), cmap='gray')\n",
        "plt.show()\n",
        "\n",
        "print('predicción = ', np.argmax(prediccion))\n",
        "print('real =', np.argmax(y_test[n_imagen]))"
      ],
      "metadata": {
        "id": "bF9otaTvuTN_",
        "colab": {
          "base_uri": "https://localhost:8080/",
          "height": 485
        },
        "outputId": "916201de-9da1-41fc-bfa1-990609081b1f"
      },
      "execution_count": 42,
      "outputs": [
        {
          "output_type": "stream",
          "name": "stdout",
          "text": [
            "\u001b[1m1/1\u001b[0m \u001b[32m━━━━━━━━━━━━━━━━━━━━\u001b[0m\u001b[37m\u001b[0m \u001b[1m0s\u001b[0m 57ms/step\n"
          ]
        },
        {
          "output_type": "display_data",
          "data": {
            "text/plain": [
              "<Figure size 640x480 with 1 Axes>"
            ],
            "image/png": "[encoded data removed]"
          },
          "metadata": {}
        },
        {
          "output_type": "stream",
          "name": "stdout",
          "text": [
            "predicción =  7\n",
            "real = 7\n"
          ]
        }
      ]
    }
  ]
}