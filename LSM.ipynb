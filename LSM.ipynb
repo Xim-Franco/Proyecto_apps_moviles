{
  "nbformat": 4,
  "nbformat_minor": 0,
  "metadata": {
    "colab": {
      "provenance": []
    },
    "kernelspec": {
      "name": "python3",
      "display_name": "Python 3"
    },
    "language_info": {
      "name": "python"
    }
  },
  "cells": [
    {
      "cell_type": "code",
      "execution_count": null,
      "metadata": {
        "id": "Bgkm5vXwtGdr"
      },
      "outputs": [],
      "source": [
        "import pandas as pd\n",
        "import numpy as np\n",
        "import tensorflow as tf\n",
        "from tensorflow.keras.models import Sequential\n",
        "from tensorflow.keras.layers import Dense, Conv2D, Flatten, Dropout, MaxPooling2D\n",
        "from tensorflow.keras import optimizers, backend, callbacks\n",
        "import tensorflow.keras.utils as np_utils\n",
        "from tensorflow.keras.utils import to_categorical\n",
        "from sklearn.model_selection import train_test_split\n",
        "import matplotlib.pyplot as plt\n",
        "from tensorflow.keras.callbacks import EarlyStopping"
      ]
    },
    {
      "cell_type": "code",
      "source": [
        "from google.colab import drive\n",
        "drive.mount('/content/drive')"
      ],
      "metadata": {
        "id": "IkrxYP1NthYb",
        "colab": {
          "base_uri": "https://localhost:8080/"
        },
        "outputId": "f5ce1cce-124e-4611-a150-0220fbc451a2"
      },
      "execution_count": 2,
      "outputs": [
        {
          "output_type": "stream",
          "name": "stdout",
          "text": [
            "Mounted at /content/drive\n"
          ]
        }
      ]
    },
    {
      "cell_type": "code",
      "source": [
        "# Lectura del archivo de imágenes\n",
        "dataset = pd.read_csv('/content/drive/MyDrive/SenasDataset.csv', header= None)"
      ],
      "metadata": {
        "id": "W66DzBzXthWF"
      },
      "execution_count": 3,
      "outputs": []
    },
    {
      "cell_type": "code",
      "source": [
        "# Tamaño de los datos\n",
        "dataset.shape"
      ],
      "metadata": {
        "id": "-5I-JZbCthTN",
        "colab": {
          "base_uri": "https://localhost:8080/"
        },
        "outputId": "e867892f-1e97-4b5f-da7b-d74bbd4d8ced"
      },
      "execution_count": 4,
      "outputs": [
        {
          "output_type": "execute_result",
          "data": {
            "text/plain": [
              "(12000, 1601)"
            ]
          },
          "metadata": {},
          "execution_count": 4
        }
      ]
    },
    {
      "cell_type": "markdown",
      "source": [
        "**Preprocesamiento**"
      ],
      "metadata": {
        "id": "TLlt2wW7tr2v"
      }
    },
    {
      "cell_type": "code",
      "source": [
        "# Cambio del tipo de dato del data set a arreglo de numpy\n",
        "dataset = dataset.values"
      ],
      "metadata": {
        "id": "9hIt7kMLthQ3"
      },
      "execution_count": 5,
      "outputs": []
    },
    {
      "cell_type": "code",
      "source": [
        "# Separar imágenes y etiquetas\n",
        "imagenes = dataset[:, :-1]\n",
        "clases = dataset[:, -1] #clases = dataset[:, 1600]"
      ],
      "metadata": {
        "id": "3nOy5y_GthOR"
      },
      "execution_count": 6,
      "outputs": []
    },
    {
      "cell_type": "code",
      "source": [
        "# Verificar las clases antes de codificarlas\n",
        "print(np.unique(clases))"
      ],
      "metadata": {
        "colab": {
          "base_uri": "https://localhost:8080/"
        },
        "id": "qj63yNiIz9pW",
        "outputId": "c889f93f-259a-4bba-951b-bc8f2e7808c7"
      },
      "execution_count": 7,
      "outputs": [
        {
          "output_type": "stream",
          "name": "stdout",
          "text": [
            "[ 0.  1.  2.  3.  4.  5.  6.  7.  8.  9. 10. 11. 12. 13. 14. 15. 16. 17.\n",
            " 18. 19. 20. 21. 22. 23.]\n"
          ]
        }
      ]
    },
    {
      "cell_type": "code",
      "source": [
        "# Transformar imágenes a su formato original\n",
        "imagenes = imagenes.reshape(12000, 40, 40, 1)"
      ],
      "metadata": {
        "id": "5BA4scs4thLs"
      },
      "execution_count": 8,
      "outputs": []
    },
    {
      "cell_type": "code",
      "source": [
        "# Normalizar las imágenes\n",
        "imagenes = imagenes/255"
      ],
      "metadata": {
        "id": "eozY73mEthI0"
      },
      "execution_count": 9,
      "outputs": []
    },
    {
      "cell_type": "code",
      "source": [
        "# Codificación one-hot de las clases\n",
        "etiquetas = to_categorical(clases, num_classes=24)\n",
        "\n",
        "# Mostrar la codificación one-hot\n",
        "print(clases[0], '->', etiquetas[0])"
      ],
      "metadata": {
        "colab": {
          "base_uri": "https://localhost:8080/"
        },
        "id": "QnQTIXI66HUR",
        "outputId": "ef4b3f8f-ec4e-4fd2-daa8-b31fe657d29c"
      },
      "execution_count": 10,
      "outputs": [
        {
          "output_type": "stream",
          "name": "stdout",
          "text": [
            "0.0 -> [1. 0. 0. 0. 0. 0. 0. 0. 0. 0. 0. 0. 0. 0. 0. 0. 0. 0. 0. 0. 0. 0. 0. 0.]\n"
          ]
        }
      ]
    },
    {
      "cell_type": "code",
      "source": [
        "# Visualización\n",
        "plt.imshow(imagenes[0].reshape(40, 40), cmap='gray')\n",
        "plt.title(f'Clase: {clases[0]}')\n",
        "plt.show()"
      ],
      "metadata": {
        "id": "Cvmwka_qthF9",
        "colab": {
          "base_uri": "https://localhost:8080/",
          "height": 452
        },
        "outputId": "ed8b905b-c00f-48d4-ae41-784da9ead70c"
      },
      "execution_count": 11,
      "outputs": [
        {
          "output_type": "display_data",
          "data": {
            "text/plain": [
              "<Figure size 640x480 with 1 Axes>"
            ],
            "image/png": "[encoded data removed]"
          },
          "metadata": {}
        }
      ]
    },
    {
      "cell_type": "code",
      "source": [
        "# 80% entrenamiento y 20% prueba\n",
        "X_train, X_test, y_train, y_test = train_test_split(imagenes, etiquetas, test_size=0.2, random_state=42)\n",
        "\n",
        "# 80% entrenamiento y 20% validación\n",
        "X_train, X_val, y_train, y_val = train_test_split(X_train, y_train, test_size=0.2, random_state=42)\n"
      ],
      "metadata": {
        "id": "NX4FIWCIt5Br"
      },
      "execution_count": 12,
      "outputs": []
    },
    {
      "cell_type": "code",
      "source": [
        "print(\"Conjunto de entrenamiento:\", X_train.shape)\n",
        "print(\"Conjunto de validación:\", X_val.shape)\n",
        "print(\"Conjunto de prueba:\", X_test.shape)"
      ],
      "metadata": {
        "id": "XeZdvIgDt4_W",
        "colab": {
          "base_uri": "https://localhost:8080/"
        },
        "outputId": "b71c7638-e43b-4043-8da6-134148fcfbd3"
      },
      "execution_count": 13,
      "outputs": [
        {
          "output_type": "stream",
          "name": "stdout",
          "text": [
            "Conjunto de entrenamiento: (7680, 40, 40, 1)\n",
            "Conjunto de validación: (1920, 40, 40, 1)\n",
            "Conjunto de prueba: (2400, 40, 40, 1)\n"
          ]
        }
      ]
    },
    {
      "cell_type": "markdown",
      "source": [
        "**Modelo**"
      ],
      "metadata": {
        "id": "z50bc0KpuBSF"
      }
    },
    {
      "cell_type": "code",
      "source": [
        "backend.clear_session()"
      ],
      "metadata": {
        "id": "sVRToRNrt49A"
      },
      "execution_count": 14,
      "outputs": []
    },
    {
      "cell_type": "code",
      "source": [
        "# Construcción del modelo\n",
        "modelo = Sequential()\n",
        "modelo.add(Conv2D(16, kernel_size=(3,3), activation='gelu', input_shape=(40, 40, 1)))\n",
        "modelo.add(MaxPooling2D(pool_size=(2,2)))\n",
        "\n",
        "modelo.add(Conv2D(32, kernel_size=(3,3), activation='gelu'))\n",
        "modelo.add(MaxPooling2D(pool_size=(2,2)))\n",
        "\n",
        "modelo.add(Conv2D(64, kernel_size=(3,3), activation='gelu'))\n",
        "modelo.add(MaxPooling2D(pool_size=(2,2)))\n",
        "modelo.add(Dropout(0.3))\n",
        "\n",
        "modelo.add(Flatten())\n",
        "\n",
        "modelo.add(Dense(50, activation='gelu'))\n",
        "modelo.add(Dropout(0.3))\n",
        "modelo.add(Dense(30, activation='relu'))\n",
        "modelo.add(Dropout(0.2))\n",
        "modelo.add(Dense(24, activation='softmax'))"
      ],
      "metadata": {
        "id": "nrONpg2wt46K"
      },
      "execution_count": 22,
      "outputs": []
    },
    {
      "cell_type": "code",
      "source": [
        "# Early Stopping\n",
        "early_stop = EarlyStopping(monitor='val_loss', patience=5, restore_best_weights=True)\n",
        "# Optimizador y compilación del modelo\n",
        "adam = optimizers.Adam(learning_rate=0.001)\n",
        "modelo.compile(loss='categorical_crossentropy', optimizer=adam, metrics=['accuracy'])"
      ],
      "metadata": {
        "id": "3eLPGG8KuJ3R"
      },
      "execution_count": 23,
      "outputs": []
    },
    {
      "cell_type": "code",
      "source": [
        "#Checkpointer para guardar el mejor modelo\n",
        "checkpointer = callbacks.ModelCheckpoint('lenguajeSenas.keras', monitor = 'val_accuracy', save_best_only = True,\n",
        "                                         mode = 'max')"
      ],
      "metadata": {
        "id": "6u_Pi5luuJ1N"
      },
      "execution_count": 24,
      "outputs": []
    },
    {
      "cell_type": "code",
      "source": [
        "# Entrenamiento del modelo\n",
        "M = modelo.fit(X_train, y_train, validation_data=(X_val, y_val), epochs=90, batch_size=64,\n",
        "               callbacks=[checkpointer], verbose=True)"
      ],
      "metadata": {
        "id": "DBwKenyyuTU_",
        "colab": {
          "base_uri": "https://localhost:8080/"
        },
        "collapsed": true,
        "outputId": "0d2d6d40-ae0e-4f34-b29e-ab41626fbb96"
      },
      "execution_count": 25,
      "outputs": [
        {
          "output_type": "stream",
          "name": "stdout",
          "text": [
            "Epoch 1/90\n",
            "\u001b[1m120/120\u001b[0m \u001b[32m━━━━━━━━━━━━━━━━━━━━\u001b[0m\u001b[37m\u001b[0m \u001b[1m17s\u001b[0m 120ms/step - accuracy: 0.0451 - loss: 3.1644 - val_accuracy: 0.1281 - val_loss: 2.8821\n",
            "Epoch 2/90\n",
            "\u001b[1m120/120\u001b[0m \u001b[32m━━━━━━━━━━━━━━━━━━━━\u001b[0m\u001b[37m\u001b[0m \u001b[1m14s\u001b[0m 118ms/step - accuracy: 0.1302 - loss: 2.8052 - val_accuracy: 0.2344 - val_loss: 2.3369\n",
            "Epoch 3/90\n",
            "\u001b[1m120/120\u001b[0m \u001b[32m━━━━━━━━━━━━━━━━━━━━\u001b[0m\u001b[37m\u001b[0m \u001b[1m19s\u001b[0m 106ms/step - accuracy: 0.2095 - loss: 2.4345 - val_accuracy: 0.3146 - val_loss: 2.0845\n",
            "Epoch 4/90\n",
            "\u001b[1m120/120\u001b[0m \u001b[32m━━━━━━━━━━━━━━━━━━━━\u001b[0m\u001b[37m\u001b[0m \u001b[1m21s\u001b[0m 113ms/step - accuracy: 0.2544 - loss: 2.2318 - val_accuracy: 0.4078 - val_loss: 1.8361\n",
            "Epoch 5/90\n",
            "\u001b[1m120/120\u001b[0m \u001b[32m━━━━━━━━━━━━━━━━━━━━\u001b[0m\u001b[37m\u001b[0m \u001b[1m20s\u001b[0m 107ms/step - accuracy: 0.3408 - loss: 1.9567 - val_accuracy: 0.5161 - val_loss: 1.5297\n",
            "Epoch 6/90\n",
            "\u001b[1m120/120\u001b[0m \u001b[32m━━━━━━━━━━━━━━━━━━━━\u001b[0m\u001b[37m\u001b[0m \u001b[1m13s\u001b[0m 111ms/step - accuracy: 0.3777 - loss: 1.7967 - val_accuracy: 0.5427 - val_loss: 1.3963\n",
            "Epoch 7/90\n",
            "\u001b[1m120/120\u001b[0m \u001b[32m━━━━━━━━━━━━━━━━━━━━\u001b[0m\u001b[37m\u001b[0m \u001b[1m21s\u001b[0m 116ms/step - accuracy: 0.4184 - loss: 1.6547 - val_accuracy: 0.5745 - val_loss: 1.2453\n",
            "Epoch 8/90\n",
            "\u001b[1m120/120\u001b[0m \u001b[32m━━━━━━━━━━━━━━━━━━━━\u001b[0m\u001b[37m\u001b[0m \u001b[1m21s\u001b[0m 117ms/step - accuracy: 0.4743 - loss: 1.4854 - val_accuracy: 0.6146 - val_loss: 1.1475\n",
            "Epoch 9/90\n",
            "\u001b[1m120/120\u001b[0m \u001b[32m━━━━━━━━━━━━━━━━━━━━\u001b[0m\u001b[37m\u001b[0m \u001b[1m21s\u001b[0m 123ms/step - accuracy: 0.5072 - loss: 1.4155 - val_accuracy: 0.6427 - val_loss: 1.0885\n",
            "Epoch 10/90\n",
            "\u001b[1m120/120\u001b[0m \u001b[32m━━━━━━━━━━━━━━━━━━━━\u001b[0m\u001b[37m\u001b[0m \u001b[1m20s\u001b[0m 117ms/step - accuracy: 0.5374 - loss: 1.3062 - val_accuracy: 0.6531 - val_loss: 1.0451\n",
            "Epoch 11/90\n",
            "\u001b[1m120/120\u001b[0m \u001b[32m━━━━━━━━━━━━━━━━━━━━\u001b[0m\u001b[37m\u001b[0m \u001b[1m21s\u001b[0m 122ms/step - accuracy: 0.5468 - loss: 1.2532 - val_accuracy: 0.6703 - val_loss: 0.9928\n",
            "Epoch 12/90\n",
            "\u001b[1m120/120\u001b[0m \u001b[32m━━━━━━━━━━━━━━━━━━━━\u001b[0m\u001b[37m\u001b[0m \u001b[1m20s\u001b[0m 121ms/step - accuracy: 0.5512 - loss: 1.2322 - val_accuracy: 0.6932 - val_loss: 0.9306\n",
            "Epoch 13/90\n",
            "\u001b[1m120/120\u001b[0m \u001b[32m━━━━━━━━━━━━━━━━━━━━\u001b[0m\u001b[37m\u001b[0m \u001b[1m20s\u001b[0m 116ms/step - accuracy: 0.5823 - loss: 1.1481 - val_accuracy: 0.6891 - val_loss: 0.9030\n",
            "Epoch 14/90\n",
            "\u001b[1m120/120\u001b[0m \u001b[32m━━━━━━━━━━━━━━━━━━━━\u001b[0m\u001b[37m\u001b[0m \u001b[1m20s\u001b[0m 116ms/step - accuracy: 0.6046 - loss: 1.0967 - val_accuracy: 0.7276 - val_loss: 0.8396\n",
            "Epoch 15/90\n",
            "\u001b[1m120/120\u001b[0m \u001b[32m━━━━━━━━━━━━━━━━━━━━\u001b[0m\u001b[37m\u001b[0m \u001b[1m13s\u001b[0m 112ms/step - accuracy: 0.6260 - loss: 1.0787 - val_accuracy: 0.7339 - val_loss: 0.8179\n",
            "Epoch 16/90\n",
            "\u001b[1m120/120\u001b[0m \u001b[32m━━━━━━━━━━━━━━━━━━━━\u001b[0m\u001b[37m\u001b[0m \u001b[1m14s\u001b[0m 114ms/step - accuracy: 0.6198 - loss: 1.0533 - val_accuracy: 0.7385 - val_loss: 0.7829\n",
            "Epoch 17/90\n",
            "\u001b[1m120/120\u001b[0m \u001b[32m━━━━━━━━━━━━━━━━━━━━\u001b[0m\u001b[37m\u001b[0m \u001b[1m21s\u001b[0m 119ms/step - accuracy: 0.6306 - loss: 1.0163 - val_accuracy: 0.7411 - val_loss: 0.7822\n",
            "Epoch 18/90\n",
            "\u001b[1m120/120\u001b[0m \u001b[32m━━━━━━━━━━━━━━━━━━━━\u001b[0m\u001b[37m\u001b[0m \u001b[1m23s\u001b[0m 143ms/step - accuracy: 0.6512 - loss: 0.9644 - val_accuracy: 0.7474 - val_loss: 0.7727\n",
            "Epoch 19/90\n",
            "\u001b[1m120/120\u001b[0m \u001b[32m━━━━━━━━━━━━━━━━━━━━\u001b[0m\u001b[37m\u001b[0m \u001b[1m18s\u001b[0m 119ms/step - accuracy: 0.6651 - loss: 0.9254 - val_accuracy: 0.7500 - val_loss: 0.7414\n",
            "Epoch 20/90\n",
            "\u001b[1m120/120\u001b[0m \u001b[32m━━━━━━━━━━━━━━━━━━━━\u001b[0m\u001b[37m\u001b[0m \u001b[1m20s\u001b[0m 115ms/step - accuracy: 0.6728 - loss: 0.9151 - val_accuracy: 0.7625 - val_loss: 0.7073\n",
            "Epoch 21/90\n",
            "\u001b[1m120/120\u001b[0m \u001b[32m━━━━━━━━━━━━━━━━━━━━\u001b[0m\u001b[37m\u001b[0m \u001b[1m21s\u001b[0m 118ms/step - accuracy: 0.6897 - loss: 0.8704 - val_accuracy: 0.7849 - val_loss: 0.6789\n",
            "Epoch 22/90\n",
            "\u001b[1m120/120\u001b[0m \u001b[32m━━━━━━━━━━━━━━━━━━━━\u001b[0m\u001b[37m\u001b[0m \u001b[1m20s\u001b[0m 113ms/step - accuracy: 0.6856 - loss: 0.8737 - val_accuracy: 0.7802 - val_loss: 0.6721\n",
            "Epoch 23/90\n",
            "\u001b[1m120/120\u001b[0m \u001b[32m━━━━━━━━━━━━━━━━━━━━\u001b[0m\u001b[37m\u001b[0m \u001b[1m21s\u001b[0m 121ms/step - accuracy: 0.6870 - loss: 0.8538 - val_accuracy: 0.7911 - val_loss: 0.6572\n",
            "Epoch 24/90\n",
            "\u001b[1m120/120\u001b[0m \u001b[32m━━━━━━━━━━━━━━━━━━━━\u001b[0m\u001b[37m\u001b[0m \u001b[1m20s\u001b[0m 113ms/step - accuracy: 0.7052 - loss: 0.8095 - val_accuracy: 0.7906 - val_loss: 0.6709\n",
            "Epoch 25/90\n",
            "\u001b[1m120/120\u001b[0m \u001b[32m━━━━━━━━━━━━━━━━━━━━\u001b[0m\u001b[37m\u001b[0m \u001b[1m14s\u001b[0m 118ms/step - accuracy: 0.7095 - loss: 0.8303 - val_accuracy: 0.7875 - val_loss: 0.6412\n",
            "Epoch 26/90\n",
            "\u001b[1m120/120\u001b[0m \u001b[32m━━━━━━━━━━━━━━━━━━━━\u001b[0m\u001b[37m\u001b[0m \u001b[1m19s\u001b[0m 107ms/step - accuracy: 0.7111 - loss: 0.7936 - val_accuracy: 0.7984 - val_loss: 0.6291\n",
            "Epoch 27/90\n",
            "\u001b[1m120/120\u001b[0m \u001b[32m━━━━━━━━━━━━━━━━━━━━\u001b[0m\u001b[37m\u001b[0m \u001b[1m24s\u001b[0m 134ms/step - accuracy: 0.7170 - loss: 0.8011 - val_accuracy: 0.8073 - val_loss: 0.6157\n",
            "Epoch 28/90\n",
            "\u001b[1m120/120\u001b[0m \u001b[32m━━━━━━━━━━━━━━━━━━━━\u001b[0m\u001b[37m\u001b[0m \u001b[1m14s\u001b[0m 117ms/step - accuracy: 0.7186 - loss: 0.7844 - val_accuracy: 0.8115 - val_loss: 0.6068\n",
            "Epoch 29/90\n",
            "\u001b[1m120/120\u001b[0m \u001b[32m━━━━━━━━━━━━━━━━━━━━\u001b[0m\u001b[37m\u001b[0m \u001b[1m21s\u001b[0m 118ms/step - accuracy: 0.7338 - loss: 0.7256 - val_accuracy: 0.8042 - val_loss: 0.6220\n",
            "Epoch 30/90\n",
            "\u001b[1m120/120\u001b[0m \u001b[32m━━━━━━━━━━━━━━━━━━━━\u001b[0m\u001b[37m\u001b[0m \u001b[1m20s\u001b[0m 113ms/step - accuracy: 0.7332 - loss: 0.7425 - val_accuracy: 0.8141 - val_loss: 0.5738\n",
            "Epoch 31/90\n",
            "\u001b[1m120/120\u001b[0m \u001b[32m━━━━━━━━━━━━━━━━━━━━\u001b[0m\u001b[37m\u001b[0m \u001b[1m21s\u001b[0m 118ms/step - accuracy: 0.7378 - loss: 0.7197 - val_accuracy: 0.8073 - val_loss: 0.5932\n",
            "Epoch 32/90\n",
            "\u001b[1m120/120\u001b[0m \u001b[32m━━━━━━━━━━━━━━━━━━━━\u001b[0m\u001b[37m\u001b[0m \u001b[1m14s\u001b[0m 116ms/step - accuracy: 0.7280 - loss: 0.7361 - val_accuracy: 0.8208 - val_loss: 0.5638\n",
            "Epoch 33/90\n",
            "\u001b[1m120/120\u001b[0m \u001b[32m━━━━━━━━━━━━━━━━━━━━\u001b[0m\u001b[37m\u001b[0m \u001b[1m20s\u001b[0m 114ms/step - accuracy: 0.7450 - loss: 0.7004 - val_accuracy: 0.8365 - val_loss: 0.5421\n",
            "Epoch 34/90\n",
            "\u001b[1m120/120\u001b[0m \u001b[32m━━━━━━━━━━━━━━━━━━━━\u001b[0m\u001b[37m\u001b[0m \u001b[1m13s\u001b[0m 106ms/step - accuracy: 0.7445 - loss: 0.7030 - val_accuracy: 0.8182 - val_loss: 0.5696\n",
            "Epoch 35/90\n",
            "\u001b[1m120/120\u001b[0m \u001b[32m━━━━━━━━━━━━━━━━━━━━\u001b[0m\u001b[37m\u001b[0m \u001b[1m22s\u001b[0m 116ms/step - accuracy: 0.7483 - loss: 0.6696 - val_accuracy: 0.8323 - val_loss: 0.5429\n",
            "Epoch 36/90\n",
            "\u001b[1m120/120\u001b[0m \u001b[32m━━━━━━━━━━━━━━━━━━━━\u001b[0m\u001b[37m\u001b[0m \u001b[1m21s\u001b[0m 117ms/step - accuracy: 0.7545 - loss: 0.6675 - val_accuracy: 0.8302 - val_loss: 0.5427\n",
            "Epoch 37/90\n",
            "\u001b[1m120/120\u001b[0m \u001b[32m━━━━━━━━━━━━━━━━━━━━\u001b[0m\u001b[37m\u001b[0m \u001b[1m14s\u001b[0m 119ms/step - accuracy: 0.7696 - loss: 0.6428 - val_accuracy: 0.8250 - val_loss: 0.5446\n",
            "Epoch 38/90\n",
            "\u001b[1m120/120\u001b[0m \u001b[32m━━━━━━━━━━━━━━━━━━━━\u001b[0m\u001b[37m\u001b[0m \u001b[1m20s\u001b[0m 118ms/step - accuracy: 0.7688 - loss: 0.6388 - val_accuracy: 0.8385 - val_loss: 0.5273\n",
            "Epoch 39/90\n",
            "\u001b[1m120/120\u001b[0m \u001b[32m━━━━━━━━━━━━━━━━━━━━\u001b[0m\u001b[37m\u001b[0m \u001b[1m20s\u001b[0m 118ms/step - accuracy: 0.7730 - loss: 0.6413 - val_accuracy: 0.8432 - val_loss: 0.5107\n",
            "Epoch 40/90\n",
            "\u001b[1m120/120\u001b[0m \u001b[32m━━━━━━━━━━━━━━━━━━━━\u001b[0m\u001b[37m\u001b[0m \u001b[1m20s\u001b[0m 115ms/step - accuracy: 0.7740 - loss: 0.6296 - val_accuracy: 0.8328 - val_loss: 0.5159\n",
            "Epoch 41/90\n",
            "\u001b[1m120/120\u001b[0m \u001b[32m━━━━━━━━━━━━━━━━━━━━\u001b[0m\u001b[37m\u001b[0m \u001b[1m14s\u001b[0m 113ms/step - accuracy: 0.7743 - loss: 0.6376 - val_accuracy: 0.8406 - val_loss: 0.4998\n",
            "Epoch 42/90\n",
            "\u001b[1m120/120\u001b[0m \u001b[32m━━━━━━━━━━━━━━━━━━━━\u001b[0m\u001b[37m\u001b[0m \u001b[1m21s\u001b[0m 117ms/step - accuracy: 0.7815 - loss: 0.6286 - val_accuracy: 0.8380 - val_loss: 0.5129\n",
            "Epoch 43/90\n",
            "\u001b[1m120/120\u001b[0m \u001b[32m━━━━━━━━━━━━━━━━━━━━\u001b[0m\u001b[37m\u001b[0m \u001b[1m21s\u001b[0m 118ms/step - accuracy: 0.7966 - loss: 0.5914 - val_accuracy: 0.8380 - val_loss: 0.5150\n",
            "Epoch 44/90\n",
            "\u001b[1m120/120\u001b[0m \u001b[32m━━━━━━━━━━━━━━━━━━━━\u001b[0m\u001b[37m\u001b[0m \u001b[1m14s\u001b[0m 120ms/step - accuracy: 0.7849 - loss: 0.6066 - val_accuracy: 0.8438 - val_loss: 0.5051\n",
            "Epoch 45/90\n",
            "\u001b[1m120/120\u001b[0m \u001b[32m━━━━━━━━━━━━━━━━━━━━\u001b[0m\u001b[37m\u001b[0m \u001b[1m20s\u001b[0m 118ms/step - accuracy: 0.7923 - loss: 0.5883 - val_accuracy: 0.8411 - val_loss: 0.5047\n",
            "Epoch 46/90\n",
            "\u001b[1m120/120\u001b[0m \u001b[32m━━━━━━━━━━━━━━━━━━━━\u001b[0m\u001b[37m\u001b[0m \u001b[1m20s\u001b[0m 117ms/step - accuracy: 0.7978 - loss: 0.5680 - val_accuracy: 0.8484 - val_loss: 0.4856\n",
            "Epoch 47/90\n",
            "\u001b[1m120/120\u001b[0m \u001b[32m━━━━━━━━━━━━━━━━━━━━\u001b[0m\u001b[37m\u001b[0m \u001b[1m14s\u001b[0m 113ms/step - accuracy: 0.7985 - loss: 0.5677 - val_accuracy: 0.8396 - val_loss: 0.4814\n",
            "Epoch 48/90\n",
            "\u001b[1m120/120\u001b[0m \u001b[32m━━━━━━━━━━━━━━━━━━━━\u001b[0m\u001b[37m\u001b[0m \u001b[1m23s\u001b[0m 134ms/step - accuracy: 0.8027 - loss: 0.5530 - val_accuracy: 0.8458 - val_loss: 0.4800\n",
            "Epoch 49/90\n",
            "\u001b[1m120/120\u001b[0m \u001b[32m━━━━━━━━━━━━━━━━━━━━\u001b[0m\u001b[37m\u001b[0m \u001b[1m19s\u001b[0m 118ms/step - accuracy: 0.7970 - loss: 0.5668 - val_accuracy: 0.8411 - val_loss: 0.4969\n",
            "Epoch 50/90\n",
            "\u001b[1m120/120\u001b[0m \u001b[32m━━━━━━━━━━━━━━━━━━━━\u001b[0m\u001b[37m\u001b[0m \u001b[1m20s\u001b[0m 114ms/step - accuracy: 0.8053 - loss: 0.5632 - val_accuracy: 0.8313 - val_loss: 0.5141\n",
            "Epoch 51/90\n",
            "\u001b[1m120/120\u001b[0m \u001b[32m━━━━━━━━━━━━━━━━━━━━\u001b[0m\u001b[37m\u001b[0m \u001b[1m14s\u001b[0m 120ms/step - accuracy: 0.8009 - loss: 0.5643 - val_accuracy: 0.8573 - val_loss: 0.4671\n",
            "Epoch 52/90\n",
            "\u001b[1m120/120\u001b[0m \u001b[32m━━━━━━━━━━━━━━━━━━━━\u001b[0m\u001b[37m\u001b[0m \u001b[1m15s\u001b[0m 121ms/step - accuracy: 0.8142 - loss: 0.5280 - val_accuracy: 0.8562 - val_loss: 0.4607\n",
            "Epoch 53/90\n",
            "\u001b[1m120/120\u001b[0m \u001b[32m━━━━━━━━━━━━━━━━━━━━\u001b[0m\u001b[37m\u001b[0m \u001b[1m15s\u001b[0m 123ms/step - accuracy: 0.8021 - loss: 0.5396 - val_accuracy: 0.8490 - val_loss: 0.4583\n",
            "Epoch 54/90\n",
            "\u001b[1m120/120\u001b[0m \u001b[32m━━━━━━━━━━━━━━━━━━━━\u001b[0m\u001b[37m\u001b[0m \u001b[1m19s\u001b[0m 111ms/step - accuracy: 0.8171 - loss: 0.5050 - val_accuracy: 0.8594 - val_loss: 0.4542\n",
            "Epoch 55/90\n",
            "\u001b[1m120/120\u001b[0m \u001b[32m━━━━━━━━━━━━━━━━━━━━\u001b[0m\u001b[37m\u001b[0m \u001b[1m22s\u001b[0m 120ms/step - accuracy: 0.8021 - loss: 0.5384 - val_accuracy: 0.8557 - val_loss: 0.4556\n",
            "Epoch 56/90\n",
            "\u001b[1m120/120\u001b[0m \u001b[32m━━━━━━━━━━━━━━━━━━━━\u001b[0m\u001b[37m\u001b[0m \u001b[1m20s\u001b[0m 113ms/step - accuracy: 0.8198 - loss: 0.5201 - val_accuracy: 0.8495 - val_loss: 0.4647\n",
            "Epoch 57/90\n",
            "\u001b[1m120/120\u001b[0m \u001b[32m━━━━━━━━━━━━━━━━━━━━\u001b[0m\u001b[37m\u001b[0m \u001b[1m20s\u001b[0m 106ms/step - accuracy: 0.8294 - loss: 0.5000 - val_accuracy: 0.8552 - val_loss: 0.4647\n",
            "Epoch 58/90\n",
            "\u001b[1m120/120\u001b[0m \u001b[32m━━━━━━━━━━━━━━━━━━━━\u001b[0m\u001b[37m\u001b[0m \u001b[1m14s\u001b[0m 114ms/step - accuracy: 0.8186 - loss: 0.5228 - val_accuracy: 0.8620 - val_loss: 0.4541\n",
            "Epoch 59/90\n",
            "\u001b[1m120/120\u001b[0m \u001b[32m━━━━━━━━━━━━━━━━━━━━\u001b[0m\u001b[37m\u001b[0m \u001b[1m21s\u001b[0m 116ms/step - accuracy: 0.8263 - loss: 0.5011 - val_accuracy: 0.8500 - val_loss: 0.4648\n",
            "Epoch 60/90\n",
            "\u001b[1m120/120\u001b[0m \u001b[32m━━━━━━━━━━━━━━━━━━━━\u001b[0m\u001b[37m\u001b[0m \u001b[1m14s\u001b[0m 115ms/step - accuracy: 0.8170 - loss: 0.5199 - val_accuracy: 0.8599 - val_loss: 0.4433\n",
            "Epoch 61/90\n",
            "\u001b[1m120/120\u001b[0m \u001b[32m━━━━━━━━━━━━━━━━━━━━\u001b[0m\u001b[37m\u001b[0m \u001b[1m14s\u001b[0m 119ms/step - accuracy: 0.8166 - loss: 0.5078 - val_accuracy: 0.8589 - val_loss: 0.4423\n",
            "Epoch 62/90\n",
            "\u001b[1m120/120\u001b[0m \u001b[32m━━━━━━━━━━━━━━━━━━━━\u001b[0m\u001b[37m\u001b[0m \u001b[1m14s\u001b[0m 117ms/step - accuracy: 0.8252 - loss: 0.5006 - val_accuracy: 0.8625 - val_loss: 0.4374\n",
            "Epoch 63/90\n",
            "\u001b[1m120/120\u001b[0m \u001b[32m━━━━━━━━━━━━━━━━━━━━\u001b[0m\u001b[37m\u001b[0m \u001b[1m21s\u001b[0m 118ms/step - accuracy: 0.8366 - loss: 0.4711 - val_accuracy: 0.8562 - val_loss: 0.4603\n",
            "Epoch 64/90\n",
            "\u001b[1m120/120\u001b[0m \u001b[32m━━━━━━━━━━━━━━━━━━━━\u001b[0m\u001b[37m\u001b[0m \u001b[1m20s\u001b[0m 113ms/step - accuracy: 0.8321 - loss: 0.4713 - val_accuracy: 0.8589 - val_loss: 0.4390\n",
            "Epoch 65/90\n",
            "\u001b[1m120/120\u001b[0m \u001b[32m━━━━━━━━━━━━━━━━━━━━\u001b[0m\u001b[37m\u001b[0m \u001b[1m23s\u001b[0m 132ms/step - accuracy: 0.8246 - loss: 0.4821 - val_accuracy: 0.8547 - val_loss: 0.4444\n",
            "Epoch 66/90\n",
            "\u001b[1m120/120\u001b[0m \u001b[32m━━━━━━━━━━━━━━━━━━━━\u001b[0m\u001b[37m\u001b[0m \u001b[1m14s\u001b[0m 118ms/step - accuracy: 0.8332 - loss: 0.4758 - val_accuracy: 0.8641 - val_loss: 0.4281\n",
            "Epoch 67/90\n",
            "\u001b[1m120/120\u001b[0m \u001b[32m━━━━━━━━━━━━━━━━━━━━\u001b[0m\u001b[37m\u001b[0m \u001b[1m20s\u001b[0m 112ms/step - accuracy: 0.8241 - loss: 0.4801 - val_accuracy: 0.8615 - val_loss: 0.4367\n",
            "Epoch 68/90\n",
            "\u001b[1m120/120\u001b[0m \u001b[32m━━━━━━━━━━━━━━━━━━━━\u001b[0m\u001b[37m\u001b[0m \u001b[1m21s\u001b[0m 117ms/step - accuracy: 0.8300 - loss: 0.4872 - val_accuracy: 0.8552 - val_loss: 0.4320\n",
            "Epoch 69/90\n",
            "\u001b[1m120/120\u001b[0m \u001b[32m━━━━━━━━━━━━━━━━━━━━\u001b[0m\u001b[37m\u001b[0m \u001b[1m14s\u001b[0m 117ms/step - accuracy: 0.8235 - loss: 0.4874 - val_accuracy: 0.8677 - val_loss: 0.4208\n",
            "Epoch 70/90\n",
            "\u001b[1m120/120\u001b[0m \u001b[32m━━━━━━━━━━━━━━━━━━━━\u001b[0m\u001b[37m\u001b[0m \u001b[1m14s\u001b[0m 116ms/step - accuracy: 0.8411 - loss: 0.4637 - val_accuracy: 0.8656 - val_loss: 0.4464\n",
            "Epoch 71/90\n",
            "\u001b[1m120/120\u001b[0m \u001b[32m━━━━━━━━━━━━━━━━━━━━\u001b[0m\u001b[37m\u001b[0m \u001b[1m20s\u001b[0m 116ms/step - accuracy: 0.8419 - loss: 0.4549 - val_accuracy: 0.8687 - val_loss: 0.4296\n",
            "Epoch 72/90\n",
            "\u001b[1m120/120\u001b[0m \u001b[32m━━━━━━━━━━━━━━━━━━━━\u001b[0m\u001b[37m\u001b[0m \u001b[1m21s\u001b[0m 119ms/step - accuracy: 0.8410 - loss: 0.4495 - val_accuracy: 0.8714 - val_loss: 0.4133\n",
            "Epoch 73/90\n",
            "\u001b[1m120/120\u001b[0m \u001b[32m━━━━━━━━━━━━━━━━━━━━\u001b[0m\u001b[37m\u001b[0m \u001b[1m20s\u001b[0m 117ms/step - accuracy: 0.8445 - loss: 0.4519 - val_accuracy: 0.8661 - val_loss: 0.4208\n",
            "Epoch 74/90\n",
            "\u001b[1m120/120\u001b[0m \u001b[32m━━━━━━━━━━━━━━━━━━━━\u001b[0m\u001b[37m\u001b[0m \u001b[1m23s\u001b[0m 137ms/step - accuracy: 0.8470 - loss: 0.4413 - val_accuracy: 0.8615 - val_loss: 0.4371\n",
            "Epoch 75/90\n",
            "\u001b[1m120/120\u001b[0m \u001b[32m━━━━━━━━━━━━━━━━━━━━\u001b[0m\u001b[37m\u001b[0m \u001b[1m14s\u001b[0m 116ms/step - accuracy: 0.8356 - loss: 0.4617 - val_accuracy: 0.8719 - val_loss: 0.4222\n",
            "Epoch 76/90\n",
            "\u001b[1m120/120\u001b[0m \u001b[32m━━━━━━━━━━━━━━━━━━━━\u001b[0m\u001b[37m\u001b[0m \u001b[1m21s\u001b[0m 117ms/step - accuracy: 0.8504 - loss: 0.4338 - val_accuracy: 0.8620 - val_loss: 0.4244\n",
            "Epoch 77/90\n",
            "\u001b[1m120/120\u001b[0m \u001b[32m━━━━━━━━━━━━━━━━━━━━\u001b[0m\u001b[37m\u001b[0m \u001b[1m20s\u001b[0m 116ms/step - accuracy: 0.8443 - loss: 0.4422 - val_accuracy: 0.8693 - val_loss: 0.4156\n",
            "Epoch 78/90\n",
            "\u001b[1m120/120\u001b[0m \u001b[32m━━━━━━━━━━━━━━━━━━━━\u001b[0m\u001b[37m\u001b[0m \u001b[1m14s\u001b[0m 119ms/step - accuracy: 0.8485 - loss: 0.4295 - val_accuracy: 0.8625 - val_loss: 0.4290\n",
            "Epoch 79/90\n",
            "\u001b[1m120/120\u001b[0m \u001b[32m━━━━━━━━━━━━━━━━━━━━\u001b[0m\u001b[37m\u001b[0m \u001b[1m14s\u001b[0m 116ms/step - accuracy: 0.8423 - loss: 0.4311 - val_accuracy: 0.8729 - val_loss: 0.4152\n",
            "Epoch 80/90\n",
            "\u001b[1m120/120\u001b[0m \u001b[32m━━━━━━━━━━━━━━━━━━━━\u001b[0m\u001b[37m\u001b[0m \u001b[1m14s\u001b[0m 119ms/step - accuracy: 0.8554 - loss: 0.4174 - val_accuracy: 0.8651 - val_loss: 0.4227\n",
            "Epoch 81/90\n",
            "\u001b[1m120/120\u001b[0m \u001b[32m━━━━━━━━━━━━━━━━━━━━\u001b[0m\u001b[37m\u001b[0m \u001b[1m15s\u001b[0m 125ms/step - accuracy: 0.8562 - loss: 0.4074 - val_accuracy: 0.8667 - val_loss: 0.4267\n",
            "Epoch 82/90\n",
            "\u001b[1m120/120\u001b[0m \u001b[32m━━━━━━━━━━━━━━━━━━━━\u001b[0m\u001b[37m\u001b[0m \u001b[1m19s\u001b[0m 115ms/step - accuracy: 0.8548 - loss: 0.4106 - val_accuracy: 0.8755 - val_loss: 0.4093\n",
            "Epoch 83/90\n",
            "\u001b[1m120/120\u001b[0m \u001b[32m━━━━━━━━━━━━━━━━━━━━\u001b[0m\u001b[37m\u001b[0m \u001b[1m21s\u001b[0m 121ms/step - accuracy: 0.8460 - loss: 0.4377 - val_accuracy: 0.8776 - val_loss: 0.3930\n",
            "Epoch 84/90\n",
            "\u001b[1m120/120\u001b[0m \u001b[32m━━━━━━━━━━━━━━━━━━━━\u001b[0m\u001b[37m\u001b[0m \u001b[1m22s\u001b[0m 136ms/step - accuracy: 0.8546 - loss: 0.4378 - val_accuracy: 0.8672 - val_loss: 0.4217\n",
            "Epoch 85/90\n",
            "\u001b[1m120/120\u001b[0m \u001b[32m━━━━━━━━━━━━━━━━━━━━\u001b[0m\u001b[37m\u001b[0m \u001b[1m14s\u001b[0m 114ms/step - accuracy: 0.8657 - loss: 0.3910 - val_accuracy: 0.8776 - val_loss: 0.4115\n",
            "Epoch 86/90\n",
            "\u001b[1m120/120\u001b[0m \u001b[32m━━━━━━━━━━━━━━━━━━━━\u001b[0m\u001b[37m\u001b[0m \u001b[1m20s\u001b[0m 114ms/step - accuracy: 0.8574 - loss: 0.4190 - val_accuracy: 0.8714 - val_loss: 0.4148\n",
            "Epoch 87/90\n",
            "\u001b[1m120/120\u001b[0m \u001b[32m━━━━━━━━━━━━━━━━━━━━\u001b[0m\u001b[37m\u001b[0m \u001b[1m21s\u001b[0m 119ms/step - accuracy: 0.8479 - loss: 0.4164 - val_accuracy: 0.8781 - val_loss: 0.4136\n",
            "Epoch 88/90\n",
            "\u001b[1m120/120\u001b[0m \u001b[32m━━━━━━━━━━━━━━━━━━━━\u001b[0m\u001b[37m\u001b[0m \u001b[1m14s\u001b[0m 117ms/step - accuracy: 0.8567 - loss: 0.4068 - val_accuracy: 0.8724 - val_loss: 0.4089\n",
            "Epoch 89/90\n",
            "\u001b[1m120/120\u001b[0m \u001b[32m━━━━━━━━━━━━━━━━━━━━\u001b[0m\u001b[37m\u001b[0m \u001b[1m14s\u001b[0m 117ms/step - accuracy: 0.8759 - loss: 0.3708 - val_accuracy: 0.8687 - val_loss: 0.4080\n",
            "Epoch 90/90\n",
            "\u001b[1m120/120\u001b[0m \u001b[32m━━━━━━━━━━━━━━━━━━━━\u001b[0m\u001b[37m\u001b[0m \u001b[1m21s\u001b[0m 118ms/step - accuracy: 0.8613 - loss: 0.3999 - val_accuracy: 0.8771 - val_loss: 0.4114\n"
          ]
        }
      ]
    },
    {
      "cell_type": "code",
      "source": [
        "# Evaluación del modelo\n",
        "plt.plot(M.history['accuracy'], label = 'train')\n",
        "plt.plot(M.history['val_accuracy'], label = 'val')\n",
        "plt.legend(loc = 'best')\n",
        "plt.xlabel('Época')\n",
        "plt.ylabel('Accuracy')\n",
        "plt.show()"
      ],
      "metadata": {
        "id": "s4OHf1vSuTSY",
        "colab": {
          "base_uri": "https://localhost:8080/",
          "height": 451
        },
        "outputId": "d9e25f0a-bd06-4c88-8a88-6c7599dfae46"
      },
      "execution_count": 26,
      "outputs": [
        {
          "output_type": "display_data",
          "data": {
            "text/plain": [
              "<Figure size 640x480 with 1 Axes>"
            ],
            "image/png": "[encoded data removed]"
          },
          "metadata": {}
        }
      ]
    },
    {
      "cell_type": "code",
      "source": [
        "# Evaluación del modelo\n",
        "plt.plot(M.history['loss'], label = 'train')\n",
        "plt.plot(M.history['val_loss'], label = 'val')\n",
        "plt.legend(loc = 'best')\n",
        "plt.xlabel('Época')\n",
        "plt.ylabel('Loss')\n",
        "plt.show()"
      ],
      "metadata": {
        "id": "mYu8e6bluTQT",
        "colab": {
          "base_uri": "https://localhost:8080/",
          "height": 451
        },
        "outputId": "b8ca28ac-fa57-4894-9a71-7507c23e3b45"
      },
      "execution_count": 27,
      "outputs": [
        {
          "output_type": "display_data",
          "data": {
            "text/plain": [
              "<Figure size 640x480 with 1 Axes>"
            ],
            "image/png": "[encoded data removed]"
          },
          "metadata": {}
        }
      ]
    },
    {
      "cell_type": "code",
      "source": [
        "# Evaluación general del modelo en el conjunto de prueba\n",
        "loss, accuracy = modelo.evaluate(X_test, y_test, verbose=0)\n",
        "print(f'Loss en prueba: {loss:.4f}')\n",
        "print(f'Accuracy en prueba: {accuracy:.4f}')"
      ],
      "metadata": {
        "colab": {
          "base_uri": "https://localhost:8080/"
        },
        "id": "Xj-2zIXYAZxb",
        "outputId": "7819ec60-9043-4fd5-83e4-253c3616acc5"
      },
      "execution_count": 28,
      "outputs": [
        {
          "output_type": "stream",
          "name": "stdout",
          "text": [
            "Loss en prueba: 0.4524\n",
            "Accuracy en prueba: 0.8721\n"
          ]
        }
      ]
    },
    {
      "cell_type": "markdown",
      "source": [
        "**Prueba del modelo**"
      ],
      "metadata": {
        "id": "uDqn-vm4ueyU"
      }
    },
    {
      "cell_type": "code",
      "source": [
        "n_imagen = 50\n",
        "prediccion = modelo.predict(X_test[n_imagen].reshape(1,40,40,1))\n",
        "\n",
        "plt.imshow(X_test[n_imagen].reshape(40,40), cmap='gray')\n",
        "plt.show()\n",
        "\n",
        "print('predicción = ', np.argmax(prediccion))\n",
        "print('real =', np.argmax(y_test[n_imagen]))"
      ],
      "metadata": {
        "id": "bF9otaTvuTN_",
        "colab": {
          "base_uri": "https://localhost:8080/",
          "height": 485
        },
        "outputId": "111d34d0-ce44-4ba6-f4f9-c6856fb7e26e"
      },
      "execution_count": null,
      "outputs": [
        {
          "output_type": "stream",
          "name": "stdout",
          "text": [
            "\u001b[1m1/1\u001b[0m \u001b[32m━━━━━━━━━━━━━━━━━━━━\u001b[0m\u001b[37m\u001b[0m \u001b[1m0s\u001b[0m 109ms/step\n"
          ]
        },
        {
          "output_type": "display_data",
          "data": {
            "text/plain": [
              "<Figure size 640x480 with 1 Axes>"
            ],
            "image/png": "[encoded data removed]"
          },
          "metadata": {}
        },
        {
          "output_type": "stream",
          "name": "stdout",
          "text": [
            "predicción =  7\n",
            "real = 7\n"
          ]
        }
      ]
    }
  ]
}